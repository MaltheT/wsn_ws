{
 "cells": [
  {
   "cell_type": "code",
   "execution_count": 16,
   "metadata": {},
   "outputs": [
    {
     "data": {
      "image/png": "[encoded data removed]",
      "text/plain": [
       "<Figure size 432x288 with 1 Axes>"
      ]
     },
     "metadata": {
      "needs_background": "light"
     },
     "output_type": "display_data"
    }
   ],
   "source": [
    "import matplotlib.pyplot as plt\n",
    "import numpy as np\n",
    "\n",
    "RSSI = [-90, -92, -88, -92, -90, -91, -91, -91, -88, -93, -86, -87, -84, -93, -91, -91]\n",
    "channel = np.zeros(16)\n",
    "j = 0\n",
    "for i in range(11, 26+1):\n",
    "    channel[j] = i\n",
    "    j += 1\n",
    "\n",
    "plt.stem(channel, RSSI, bottom=-80)\n",
    "plt.ylabel('RSSI value')\n",
    "plt.xlabel('Channel no.')\n",
    "plt.show()"
   ]
  },
  {
   "cell_type": "markdown",
   "metadata": {},
   "source": [
    "The plot above shows the average RSSI values for channels 11-26 after listening for 15 seconds. Both channel 20 and 24 have RSSI value $-93$ which makes them the channels with the least amount of noise/interference. Channel 23 on the other hand has much higher RSSI value $-84$ which makes it the channel with the weakest signal in the test. "
   ]
  }
 ],
 "metadata": {
  "kernelspec": {
   "display_name": "Python 3.8.10 64-bit",
   "language": "python",
   "name": "python3"
  },
  "language_info": {
   "codemirror_mode": {
    "name": "ipython",
    "version": 3
   },
   "file_extension": ".py",
   "mimetype": "text/x-python",
   "name": "python",
   "nbconvert_exporter": "python",
   "pygments_lexer": "ipython3",
   "version": "3.8.10"
  },
  "orig_nbformat": 4,
  "vscode": {
   "interpreter": {
    "hash": "916dbcbb3f70747c44a77c7bcd40155683ae19c65e1c03b4aa3499c5328201f1"
   }
  }
 },
 "nbformat": 4,
 "nbformat_minor": 2
}
